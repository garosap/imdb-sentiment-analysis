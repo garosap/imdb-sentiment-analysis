{
 "cells": [
  {
   "cell_type": "markdown",
   "id": "788a8382",
   "metadata": {
    "papermill": {
     "duration": 0.030046,
     "end_time": "2022-03-15T05:15:15.009630",
     "exception": false,
     "start_time": "2022-03-15T05:15:14.979584",
     "status": "completed"
    },
    "tags": []
   },
   "source": [
    "# Sentiment analysis on Reviews given by viewers on IMDB\n"
   ]
  },
  {
   "cell_type": "markdown",
   "id": "2143ef61",
   "metadata": {
    "papermill": {
     "duration": 0.028418,
     "end_time": "2022-03-15T05:15:15.129171",
     "exception": false,
     "start_time": "2022-03-15T05:15:15.100753",
     "status": "completed"
    },
    "tags": []
   },
   "source": [
    "## The Dataset and The Problem to Solve\n",
    "\n",
    "In this notebook, we're exploring a dataset from Kaggle featuring 50,000 movie reviews, distributed across two columns: \"review\" for the text of the review, and \"sentiment\" indicating whether the review is positive or negative.\n",
    "\n",
    "Objective: We aim to determine the most effective machine learning model for predicting the sentiment (positive or negative) of a movie review based on its text content."
   ]
  },
  {
   "cell_type": "code",
   "execution_count": null,
   "id": "db94f69e",
   "metadata": {
    "_cell_guid": "b1076dfc-b9ad-4769-8c92-a6c4dae69d19",
    "_uuid": "8f2839f25d086af736a60e9eeb907d3b93b6e0e5",
    "execution": {
     "iopub.execute_input": "2022-03-15T05:15:15.247956Z",
     "iopub.status.busy": "2022-03-15T05:15:15.246921Z",
     "iopub.status.idle": "2022-03-15T05:15:16.234137Z",
     "shell.execute_reply": "2022-03-15T05:15:16.233395Z",
     "shell.execute_reply.started": "2022-03-15T05:12:57.042837Z"
    },
    "papermill": {
     "duration": 1.018891,
     "end_time": "2022-03-15T05:15:16.234290",
     "exception": false,
     "start_time": "2022-03-15T05:15:15.215399",
     "status": "completed"
    },
    "tags": []
   },
   "outputs": [],
   "source": [
    "import pandas as pd "
   ]
  },
  {
   "cell_type": "markdown",
   "id": "8a1d81dc",
   "metadata": {
    "papermill": {
     "duration": 0.030442,
     "end_time": "2022-03-15T05:15:16.367290",
     "exception": false,
     "start_time": "2022-03-15T05:15:16.336848",
     "status": "completed"
    },
    "tags": []
   },
   "source": [
    "\n",
    "## 1. Data Collection\n",
    "\n",
    "Dataset URL: https://www.kaggle.com/datasets/lakshmi25npathi/imdb-dataset-of-50k-movie-reviews\n",
    "\n",
    "Dataset size: ~60MB (decompressed)\n",
    "\n",
    "Make sure the dataset is named \"IMDB_Dataset.csv\" inside the \"dataset\" folder.\n"
   ]
  },
  {
   "cell_type": "code",
   "execution_count": null,
   "id": "caa736c0",
   "metadata": {
    "execution": {
     "iopub.execute_input": "2022-03-15T05:15:16.431232Z",
     "iopub.status.busy": "2022-03-15T05:15:16.430608Z",
     "iopub.status.idle": "2022-03-15T05:15:17.819178Z",
     "shell.execute_reply": "2022-03-15T05:15:17.818578Z",
     "shell.execute_reply.started": "2022-03-15T05:12:58.096894Z"
    },
    "papermill": {
     "duration": 1.422331,
     "end_time": "2022-03-15T05:15:17.819318",
     "exception": false,
     "start_time": "2022-03-15T05:15:16.396987",
     "status": "completed"
    },
    "tags": []
   },
   "outputs": [],
   "source": [
    "df_review = pd.read_csv(\"dataset/IMDB_Dataset.csv\")\n",
    "df_review"
   ]
  },
  {
   "cell_type": "markdown",
   "id": "73ce9aa4",
   "metadata": {},
   "source": [
    "## 2. Data preprocessing\n",
    "\n",
    "The preprocessing steps that we will use are:\n",
    "- Use a fraction of the dataset for faster iterations in initial experimentations\n",
    "- Split the data into train and test set\n",
    "- Vectorize the data (natural language reviews -> integer vectors)"
   ]
  },
  {
   "cell_type": "markdown",
   "id": "fa860ef6",
   "metadata": {},
   "source": [
    "### Data fractioning\n"
   ]
  },
  {
   "cell_type": "code",
   "execution_count": null,
   "id": "eb4920fc",
   "metadata": {
    "execution": {
     "iopub.execute_input": "2022-03-15T05:15:17.950103Z",
     "iopub.status.busy": "2022-03-15T05:15:17.949456Z",
     "iopub.status.idle": "2022-03-15T05:15:17.964839Z",
     "shell.execute_reply": "2022-03-15T05:15:17.964310Z",
     "shell.execute_reply.started": "2022-03-15T05:12:59.561143Z"
    },
    "papermill": {
     "duration": 0.055791,
     "end_time": "2022-03-15T05:15:17.964973",
     "exception": false,
     "start_time": "2022-03-15T05:15:17.909182",
     "status": "completed"
    },
    "tags": []
   },
   "outputs": [],
   "source": [
    "df_positive = df_review[df_review['sentiment']=='positive'][:5000]\n",
    "df_negative = df_review[df_review['sentiment']=='negative'][:5000]\n",
    "\n",
    "df_review_small = pd.concat([df_positive,df_negative ])"
   ]
  },
  {
   "cell_type": "markdown",
   "id": "88184a48",
   "metadata": {
    "papermill": {
     "duration": 0.031289,
     "end_time": "2022-03-15T05:15:19.191739",
     "exception": false,
     "start_time": "2022-03-15T05:15:19.160450",
     "status": "completed"
    },
    "tags": []
   },
   "source": [
    "\n",
    "### Splitting into train and test set\n"
   ]
  },
  {
   "cell_type": "code",
   "execution_count": null,
   "id": "e6c0f472",
   "metadata": {
    "execution": {
     "iopub.execute_input": "2022-03-15T05:15:19.259250Z",
     "iopub.status.busy": "2022-03-15T05:15:19.258255Z",
     "iopub.status.idle": "2022-03-15T05:15:19.263768Z",
     "shell.execute_reply": "2022-03-15T05:15:19.264239Z",
     "shell.execute_reply.started": "2022-03-15T05:13:00.448344Z"
    },
    "papermill": {
     "duration": 0.040695,
     "end_time": "2022-03-15T05:15:19.264415",
     "exception": false,
     "start_time": "2022-03-15T05:15:19.223720",
     "status": "completed"
    },
    "tags": []
   },
   "outputs": [],
   "source": [
    "from sklearn.model_selection import train_test_split\n",
    "\n",
    "train, test = train_test_split(df_review_small, test_size=0.2, random_state=42)"
   ]
  },
  {
   "cell_type": "code",
   "execution_count": null,
   "id": "44ca4804",
   "metadata": {
    "execution": {
     "iopub.execute_input": "2022-03-15T05:15:19.330810Z",
     "iopub.status.busy": "2022-03-15T05:15:19.329927Z",
     "iopub.status.idle": "2022-03-15T05:15:19.334185Z",
     "shell.execute_reply": "2022-03-15T05:15:19.334621Z",
     "shell.execute_reply.started": "2022-03-15T05:13:00.457989Z"
    },
    "papermill": {
     "duration": 0.039134,
     "end_time": "2022-03-15T05:15:19.334778",
     "exception": false,
     "start_time": "2022-03-15T05:15:19.295644",
     "status": "completed"
    },
    "tags": []
   },
   "outputs": [],
   "source": [
    "train_x, train_y = train['review'], train['sentiment']\n",
    "test_x, test_y = test['review'], test['sentiment']"
   ]
  },
  {
   "cell_type": "code",
   "execution_count": null,
   "id": "3c6a4c66",
   "metadata": {
    "execution": {
     "iopub.execute_input": "2022-03-15T05:15:19.400656Z",
     "iopub.status.busy": "2022-03-15T05:15:19.399742Z",
     "iopub.status.idle": "2022-03-15T05:15:19.408086Z",
     "shell.execute_reply": "2022-03-15T05:15:19.408526Z",
     "shell.execute_reply.started": "2022-03-15T05:13:00.469297Z"
    },
    "papermill": {
     "duration": 0.043005,
     "end_time": "2022-03-15T05:15:19.408686",
     "exception": false,
     "start_time": "2022-03-15T05:15:19.365681",
     "status": "completed"
    },
    "tags": []
   },
   "outputs": [],
   "source": [
    "train_y.value_counts()"
   ]
  },
  {
   "cell_type": "markdown",
   "id": "17ffb83c",
   "metadata": {
    "papermill": {
     "duration": 0.031909,
     "end_time": "2022-03-15T05:15:19.471693",
     "exception": false,
     "start_time": "2022-03-15T05:15:19.439784",
     "status": "completed"
    },
    "tags": []
   },
   "source": [
    "\n",
    "### Vectorization (Bag of words)\n"
   ]
  },
  {
   "cell_type": "markdown",
   "id": "b549637e",
   "metadata": {
    "papermill": {
     "duration": 0.031084,
     "end_time": "2022-03-15T05:15:19.534017",
     "exception": false,
     "start_time": "2022-03-15T05:15:19.502933",
     "status": "completed"
    },
    "tags": []
   },
   "source": [
    "To analyze our movie reviews, we must convert the text into numerical vectors, as machine learning models require numerical input. We'll employ the Bag of Words (BOW) method, focusing on word frequency while disregarding word order."
   ]
  },
  {
   "cell_type": "code",
   "execution_count": null,
   "id": "a6b4b597",
   "metadata": {
    "execution": {
     "iopub.execute_input": "2022-03-15T05:15:19.663843Z",
     "iopub.status.busy": "2022-03-15T05:15:19.662933Z",
     "iopub.status.idle": "2022-03-15T05:15:20.019802Z",
     "shell.execute_reply": "2022-03-15T05:15:20.020330Z",
     "shell.execute_reply.started": "2022-03-15T05:13:00.486464Z"
    },
    "papermill": {
     "duration": 0.391793,
     "end_time": "2022-03-15T05:15:20.020575",
     "exception": false,
     "start_time": "2022-03-15T05:15:19.628782",
     "status": "completed"
    },
    "tags": []
   },
   "outputs": [],
   "source": [
    "from sklearn.feature_extraction.text import TfidfVectorizer\n",
    "\n",
    "tfidf = TfidfVectorizer(stop_words='english')\n",
    "train_x_vector = tfidf.fit_transform(train_x)\n",
    "# also fit the test_x_vector\n",
    "test_x_vector = tfidf.transform(test_x)"
   ]
  },
  {
   "cell_type": "code",
   "execution_count": null,
   "id": "ab8fb7b2",
   "metadata": {
    "execution": {
     "iopub.execute_input": "2022-03-15T05:15:20.155177Z",
     "iopub.status.busy": "2022-03-15T05:15:20.154316Z",
     "iopub.status.idle": "2022-03-15T05:15:20.808982Z",
     "shell.execute_reply": "2022-03-15T05:15:20.809433Z",
     "shell.execute_reply.started": "2022-03-15T05:13:01.009681Z"
    },
    "papermill": {
     "duration": 0.691442,
     "end_time": "2022-03-15T05:15:20.809614",
     "exception": false,
     "start_time": "2022-03-15T05:15:20.118172",
     "status": "completed"
    },
    "tags": []
   },
   "outputs": [],
   "source": [
    "pd.DataFrame.sparse.from_spmatrix(train_x_vector,\n",
    "                                  index=train_x.index,\n",
    "                                  columns=tfidf.get_feature_names_out())"
   ]
  },
  {
   "cell_type": "markdown",
   "id": "11352f52",
   "metadata": {
    "papermill": {
     "duration": 0.032306,
     "end_time": "2022-03-15T05:15:20.874383",
     "exception": false,
     "start_time": "2022-03-15T05:15:20.842077",
     "status": "completed"
    },
    "tags": []
   },
   "source": [
    "# 3-4. Model Selection & Training\n",
    "\n",
    "Since in our dataset we have labels, this is a supervised learning problem. We will test 3 classification algorithms to see which one performs better on our dataset. \n",
    "\n",
    "The algorithms that will be tested are:\n",
    "\n",
    "- Decision Tree\n",
    "- Gaussian Naive Bayes\n",
    "- Logistic Regression"
   ]
  },
  {
   "cell_type": "markdown",
   "id": "237bac71",
   "metadata": {},
   "source": [
    "\n",
    "## Decision Tree\n"
   ]
  },
  {
   "cell_type": "code",
   "execution_count": null,
   "id": "34212a78",
   "metadata": {
    "execution": {
     "iopub.execute_input": "2022-03-15T05:15:22.946077Z",
     "iopub.status.busy": "2022-03-15T05:15:22.945456Z",
     "iopub.status.idle": "2022-03-15T05:15:23.349345Z",
     "shell.execute_reply": "2022-03-15T05:15:23.348722Z",
     "shell.execute_reply.started": "2022-03-15T05:13:03.635948Z"
    },
    "papermill": {
     "duration": 0.441794,
     "end_time": "2022-03-15T05:15:23.349529",
     "exception": false,
     "start_time": "2022-03-15T05:15:22.907735",
     "status": "completed"
    },
    "tags": []
   },
   "outputs": [],
   "source": [
    "from sklearn.tree import DecisionTreeClassifier\n",
    "\n",
    "dec_tree = DecisionTreeClassifier(\n",
    "    random_state=42,\n",
    "    max_depth=3\n",
    ")\n",
    "dec_tree.fit(train_x_vector, train_y)"
   ]
  },
  {
   "cell_type": "markdown",
   "id": "a6d2a975",
   "metadata": {
    "papermill": {
     "duration": 0.034775,
     "end_time": "2022-03-15T05:15:23.417977",
     "exception": false,
     "start_time": "2022-03-15T05:15:23.383202",
     "status": "completed"
    },
    "tags": []
   },
   "source": [
    "\n",
    "## Naive Bayes\n"
   ]
  },
  {
   "cell_type": "code",
   "execution_count": null,
   "id": "db5d0439",
   "metadata": {
    "execution": {
     "iopub.execute_input": "2022-03-15T05:15:23.492468Z",
     "iopub.status.busy": "2022-03-15T05:15:23.491609Z",
     "iopub.status.idle": "2022-03-15T05:15:24.178701Z",
     "shell.execute_reply": "2022-03-15T05:15:24.179181Z",
     "shell.execute_reply.started": "2022-03-15T05:13:04.035504Z"
    },
    "papermill": {
     "duration": 0.726787,
     "end_time": "2022-03-15T05:15:24.179350",
     "exception": false,
     "start_time": "2022-03-15T05:15:23.452563",
     "status": "completed"
    },
    "tags": []
   },
   "outputs": [],
   "source": [
    "from sklearn.naive_bayes import GaussianNB\n",
    "gnb = GaussianNB()\n",
    "gnb.fit(train_x_vector.toarray(), train_y)"
   ]
  },
  {
   "cell_type": "markdown",
   "id": "89594f17",
   "metadata": {
    "papermill": {
     "duration": 0.033336,
     "end_time": "2022-03-15T05:15:24.246622",
     "exception": false,
     "start_time": "2022-03-15T05:15:24.213286",
     "status": "completed"
    },
    "tags": []
   },
   "source": [
    "\n",
    "## Logistic Regression\n"
   ]
  },
  {
   "cell_type": "code",
   "execution_count": null,
   "id": "ff6b8d24",
   "metadata": {
    "execution": {
     "iopub.execute_input": "2022-03-15T05:15:24.338204Z",
     "iopub.status.busy": "2022-03-15T05:15:24.337182Z",
     "iopub.status.idle": "2022-03-15T05:15:24.502013Z",
     "shell.execute_reply": "2022-03-15T05:15:24.503476Z",
     "shell.execute_reply.started": "2022-03-15T05:13:04.724869Z"
    },
    "papermill": {
     "duration": 0.22347,
     "end_time": "2022-03-15T05:15:24.503749",
     "exception": false,
     "start_time": "2022-03-15T05:15:24.280279",
     "status": "completed"
    },
    "tags": []
   },
   "outputs": [],
   "source": [
    "from sklearn.linear_model import LogisticRegression\n",
    "\n",
    "log_reg = LogisticRegression(\n",
    "    random_state=42,\n",
    "    max_iter=5\n",
    ")\n",
    "log_reg.fit(train_x_vector,train_y)"
   ]
  },
  {
   "cell_type": "markdown",
   "id": "a6e7b622",
   "metadata": {
    "papermill": {
     "duration": 0.034066,
     "end_time": "2022-03-15T05:15:24.714931",
     "exception": false,
     "start_time": "2022-03-15T05:15:24.680865",
     "status": "completed"
    },
    "tags": []
   },
   "source": [
    "\n",
    "# 5. Model Evaluation\n"
   ]
  },
  {
   "cell_type": "markdown",
   "id": "8beff619",
   "metadata": {
    "papermill": {
     "duration": 0.033526,
     "end_time": "2022-03-15T05:15:24.782239",
     "exception": false,
     "start_time": "2022-03-15T05:15:24.748713",
     "status": "completed"
    },
    "tags": []
   },
   "source": [
    "### Mean Accuracy"
   ]
  },
  {
   "cell_type": "code",
   "execution_count": null,
   "id": "cb10d1cb",
   "metadata": {
    "execution": {
     "iopub.execute_input": "2022-03-15T05:15:24.855516Z",
     "iopub.status.busy": "2022-03-15T05:15:24.854748Z",
     "iopub.status.idle": "2022-03-15T05:15:25.912120Z",
     "shell.execute_reply": "2022-03-15T05:15:25.911351Z",
     "shell.execute_reply.started": "2022-03-15T05:13:04.938140Z"
    },
    "papermill": {
     "duration": 1.096187,
     "end_time": "2022-03-15T05:15:25.912314",
     "exception": false,
     "start_time": "2022-03-15T05:15:24.816127",
     "status": "completed"
    },
    "tags": []
   },
   "outputs": [],
   "source": [
    "print(\"Model 1 (Decision tree) accuracy:\", dec_tree.score(test_x_vector, test_y))\n",
    "print(\"Model 2 (GaussianNB) accuracy:\", gnb.score(test_x_vector.toarray(), test_y))\n",
    "print(\"Model 3 (Logistic Regression) accuracy:\", log_reg.score(test_x_vector, test_y))"
   ]
  },
  {
   "cell_type": "markdown",
   "id": "ddaa412c",
   "metadata": {},
   "source": [
    "# 6. Iteration\n",
    "Having achieved respectable accuracy with Logistic Regression, our next steps involve iterating over the entire workflow (steps 1-5) to refine and potentially enhance our final model's performance. Here are several targeted strategies for each phase of the workflow:\n",
    "\n",
    "### 1. **Data Collection:**\n",
    "   - **Expand the Dataset:** Explore additional datasets or scrape movie review websites to diversify the training data.\n",
    "   - **Augment the Data:** Implement techniques like synonym replacement or back-translation to artificially increase the dataset size.\n",
    "\n",
    "### 2. **Data Preprocessing:**\n",
    "   - **More Training Data:** Increase the training data size to improve model generalization and performance.\n",
    "   - **Advanced Vectorization:** Experiment with Word2Vec or GloVe for word embeddings that capture more nuanced semantic relationships than TF-IDF.\n",
    "   - **Lemmatization Over Stemming:** Apply lemmatization to reduce words to their base or dictionary form, preserving the semantic meaning of the text.\n",
    "\n",
    "### 3. **Model Selection:**\n",
    "   - **Advanced Algorithms:** Explore more sophisticated algorithms like Support Vector Machines (SVM) or XGBoost for better predictive performance.\n",
    "\n",
    "### 4. **Model Training:**\n",
    "   - **Hyperparameter Optimization:** Experiment with different hyperparameter values for each model (max_depth in Decision Tree, max_iter in Logistic Regression) to see how they affect performance.\n",
    "   - **Cross-Validation:** Implement k-fold cross-validation to ensure the model's robustness and generalizability across different subsets of the dataset.\n",
    "\n",
    "### 5. **Model Evaluation:**\n",
    "   - **Confusion Matrix:** Beyond accuracy, inspect the confusion matrix to understand the model's performance across different classes (positive vs. negative reviews).\n",
    "   - **ROC and AUC:** Evaluate the model using the Receiver Operating Characteristic (ROC) curve and the Area Under the Curve (AUC) for a comprehensive performance metric.\n",
    "   - **Precision-Recall Trade-off:** Analyze the precision-recall curve, especially useful in the context of imbalanced datasets, to find an optimal balance for the classification threshold.\n",
    "\n"
   ]
  },
  {
   "cell_type": "markdown",
   "id": "0675be01",
   "metadata": {},
   "source": [
    "# Manual check"
   ]
  },
  {
   "cell_type": "code",
   "execution_count": null,
   "id": "b79480aa",
   "metadata": {},
   "outputs": [],
   "source": [
    "review = \"\"\"\n",
    "Last night I saw the movie Road House and I did not like it. \n",
    "The acting was fine, the fighting scenes were badass \n",
    "but overall a predictable and kinda boring plot.\n",
    "\"\"\"\n",
    "\n",
    "\n",
    "print(log_reg.predict(tfidf.transform([review])))"
   ]
  }
 ],
 "metadata": {
  "kernelspec": {
   "display_name": "Python 3",
   "language": "python",
   "name": "python3"
  },
  "language_info": {
   "codemirror_mode": {
    "name": "ipython",
    "version": 3
   },
   "file_extension": ".py",
   "mimetype": "text/x-python",
   "name": "python",
   "nbconvert_exporter": "python",
   "pygments_lexer": "ipython3",
   "version": "3.10.12"
  },
  "papermill": {
   "default_parameters": {},
   "duration": 95.3358,
   "end_time": "2022-03-15T05:16:41.764937",
   "environment_variables": {},
   "exception": null,
   "input_path": "__notebook__.ipynb",
   "output_path": "__notebook__.ipynb",
   "parameters": {},
   "start_time": "2022-03-15T05:15:06.429137",
   "version": "2.3.3"
  }
 },
 "nbformat": 4,
 "nbformat_minor": 5
}
